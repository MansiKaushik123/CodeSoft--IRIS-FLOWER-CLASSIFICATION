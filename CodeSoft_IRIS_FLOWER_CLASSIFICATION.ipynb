{
  "nbformat": 4,
  "nbformat_minor": 0,
  "metadata": {
    "colab": {
      "private_outputs": true,
      "provenance": [],
      "authorship_tag": "ABX9TyNmRgCKotM2QqUnRyNtIqz4",
      "include_colab_link": true
    },
    "kernelspec": {
      "name": "python3",
      "display_name": "Python 3"
    },
    "language_info": {
      "name": "python"
    }
  },
  "cells": [
    {
      "cell_type": "markdown",
      "metadata": {
        "id": "view-in-github",
        "colab_type": "text"
      },
      "source": [
        "<a href=\"https://colab.research.google.com/github/MansiKaushik123/CodeSoft--IRIS-FLOWER-CLASSIFICATION/blob/main/CodeSoft_IRIS_FLOWER_CLASSIFICATION.ipynb\" target=\"_parent\"><img src=\"https://colab.research.google.com/assets/colab-badge.svg\" alt=\"Open In Colab\"/></a>"
      ]
    },
    {
      "cell_type": "code",
      "execution_count": null,
      "metadata": {
        "id": "r3Nc_v4HxfQ-"
      },
      "outputs": [],
      "source": [
        "import pandas as pd\n",
        "import numpy as np\n",
        "import seaborn as sns\n",
        "import matplotlib.pyplot as plt\n",
        "from sklearn.preprocessing import LabelEncoder\n",
        "from sklearn.model_selection import train_test_split\n",
        "from sklearn.linear_model import LogisticRegression\n",
        "from sklearn.neighbors import KNeighborsClassifier\n",
        "from sklearn.tree import DecisionTreeClassifier"
      ]
    },
    {
      "cell_type": "code",
      "source": [
        "iris_data = pd.read_csv(\"/content/IRIS.csv\")"
      ],
      "metadata": {
        "id": "6u4YS0OYz1Qq"
      },
      "execution_count": null,
      "outputs": []
    },
    {
      "cell_type": "code",
      "source": [
        "iris_data.head(16)"
      ],
      "metadata": {
        "id": "e0A-YJzo0htZ"
      },
      "execution_count": null,
      "outputs": []
    },
    {
      "cell_type": "code",
      "source": [
        "iris_data.shape"
      ],
      "metadata": {
        "id": "EQ5eolwU1O_A"
      },
      "execution_count": null,
      "outputs": []
    },
    {
      "cell_type": "code",
      "source": [
        "iris_data.info()"
      ],
      "metadata": {
        "id": "B04Nuq7K1X04"
      },
      "execution_count": null,
      "outputs": []
    },
    {
      "cell_type": "code",
      "source": [
        "iris_data.describe()"
      ],
      "metadata": {
        "id": "OnbJtFV71cTN"
      },
      "execution_count": null,
      "outputs": []
    },
    {
      "cell_type": "code",
      "source": [
        "iris_data.isnull().sum()"
      ],
      "metadata": {
        "id": "vlVEHEVP1iq3"
      },
      "execution_count": null,
      "outputs": []
    },
    {
      "cell_type": "code",
      "source": [
        "iris_data.describe()\n"
      ],
      "metadata": {
        "id": "oCiABUxo1wxJ"
      },
      "execution_count": null,
      "outputs": []
    },
    {
      "cell_type": "code",
      "source": [
        "iris_data['sepal_length'].hist()"
      ],
      "metadata": {
        "id": "eE7bEoba13q_"
      },
      "execution_count": null,
      "outputs": []
    },
    {
      "cell_type": "code",
      "source": [
        "iris_data['sepal_width'].hist()"
      ],
      "metadata": {
        "id": "n63iM6Oy2Igu"
      },
      "execution_count": null,
      "outputs": []
    },
    {
      "cell_type": "code",
      "source": [
        "iris_data['petal_length'].hist()"
      ],
      "metadata": {
        "id": "wkO_T6-C2Sed"
      },
      "execution_count": null,
      "outputs": []
    },
    {
      "cell_type": "code",
      "source": [
        "iris_data['petal_width'].hist()"
      ],
      "metadata": {
        "id": "dk61wnz_2cdo"
      },
      "execution_count": null,
      "outputs": []
    },
    {
      "cell_type": "code",
      "source": [
        "colors = ['red','Black','teal']"
      ],
      "metadata": {
        "id": "TzXoNsrZ3uww"
      },
      "execution_count": null,
      "outputs": []
    },
    {
      "cell_type": "code",
      "source": [
        "species = ['Iris-setosa', 'Iris-versicolor', 'Iris-virginica']"
      ],
      "metadata": {
        "id": "1rSFAamT4Gus"
      },
      "execution_count": null,
      "outputs": []
    },
    {
      "cell_type": "code",
      "source": [
        "for i in range(3):\n",
        "    x=iris_data[iris_data['species']==species[i]]\n",
        "    plt.scatter(x['sepal_length'],x['sepal_width'],c=colors[i],label=species[i])\n",
        "plt.xlabel(\"Sepal Length\")\n",
        "plt.ylabel(\"Sepal Width\")\n",
        "plt.legend()\n",
        ""
      ],
      "metadata": {
        "id": "ss4AdatG45Zj"
      },
      "execution_count": null,
      "outputs": []
    },
    {
      "cell_type": "code",
      "source": [
        "for i in range(3):\n",
        "    x=iris_data[iris_data['species']==species[i]]\n",
        "    plt.scatter(x['petal_length'],x['petal_width'],c=colors[i],label=species[i])\n",
        "plt.xlabel(\"Petal Length\")\n",
        "plt.ylabel(\"Petal Width\")\n",
        "plt.legend()"
      ],
      "metadata": {
        "id": "VCGF9fFX67Sf"
      },
      "execution_count": null,
      "outputs": []
    },
    {
      "cell_type": "code",
      "source": [
        "for i in range(3):\n",
        "    x=iris_data[iris_data['species']==species[i]]\n",
        "    plt.scatter(x['sepal_length'],x['petal_length'],c=colors[i],label=species[i])\n",
        "plt.xlabel(\"Sepal Length\")\n",
        "plt.ylabel(\"Petal Length\")\n",
        "plt.legend()"
      ],
      "metadata": {
        "id": "m9acioZz7JOh"
      },
      "execution_count": null,
      "outputs": []
    },
    {
      "cell_type": "code",
      "source": [
        "for i in range(3):\n",
        "    x=iris_data[iris_data['species']==species[i]]\n",
        "    plt.scatter(x['sepal_width'],x['petal_width'],c=colors[i],label=species[i])\n",
        "plt.xlabel(\"Sepal Width\")\n",
        "plt.ylabel(\"Petal Width\")\n",
        "plt.legend()"
      ],
      "metadata": {
        "id": "s7cvHJ3S7dtE"
      },
      "execution_count": null,
      "outputs": []
    },
    {
      "cell_type": "code",
      "source": [],
      "metadata": {
        "id": "kRCwcyIl72jA"
      },
      "execution_count": null,
      "outputs": []
    },
    {
      "cell_type": "code",
      "source": [
        "numeric_columns=iris_data.drop(columns='species')\n",
        "corr=numeric_columns.corr()\n",
        "fig,axis=plt.subplots(figsize=(5,5))\n",
        "sns.heatmap(corr,annot=True,ax=axis,cmap='coolwarm')"
      ],
      "metadata": {
        "id": "VIFrjn3M712c"
      },
      "execution_count": null,
      "outputs": []
    },
    {
      "cell_type": "code",
      "source": [
        "le=LabelEncoder()"
      ],
      "metadata": {
        "id": "igIfWIwu_0T9"
      },
      "execution_count": null,
      "outputs": []
    },
    {
      "cell_type": "code",
      "source": [
        "iris_data['species']=le.fit_transform(iris_data['species'])\n"
      ],
      "metadata": {
        "id": "y4NS-DHq_8eY"
      },
      "execution_count": null,
      "outputs": []
    },
    {
      "cell_type": "code",
      "source": [
        "iris_data.head(16)\n"
      ],
      "metadata": {
        "id": "c1NDXHyrBKTd"
      },
      "execution_count": null,
      "outputs": []
    },
    {
      "cell_type": "code",
      "source": [
        "x=iris_data.drop(columns='species')\n"
      ],
      "metadata": {
        "id": "Rf9lQF-2BPRI"
      },
      "execution_count": null,
      "outputs": []
    },
    {
      "cell_type": "code",
      "source": [
        "y=iris_data['species']\n"
      ],
      "metadata": {
        "id": "fgxkPtaNBYFy"
      },
      "execution_count": null,
      "outputs": []
    },
    {
      "cell_type": "code",
      "source": [
        "x_train,x_test,y_train,y_test=train_test_split(x,y,test_size=0.3)\n"
      ],
      "metadata": {
        "id": "mfU1s6HBBcg2"
      },
      "execution_count": null,
      "outputs": []
    },
    {
      "cell_type": "code",
      "source": [
        "LR=LogisticRegression()\n"
      ],
      "metadata": {
        "id": "72R4mJuGBe4M"
      },
      "execution_count": null,
      "outputs": []
    },
    {
      "cell_type": "code",
      "source": [
        "LR.fit(x_train,y_train)"
      ],
      "metadata": {
        "id": "v3juU7X_BhMs"
      },
      "execution_count": null,
      "outputs": []
    },
    {
      "cell_type": "code",
      "source": [
        "KNN=KNeighborsClassifier()"
      ],
      "metadata": {
        "id": "Ij-MHROCBj31"
      },
      "execution_count": null,
      "outputs": []
    },
    {
      "cell_type": "code",
      "source": [
        "KNN.fit(x_train,y_train)"
      ],
      "metadata": {
        "id": "SkbF6JT7BmeM"
      },
      "execution_count": null,
      "outputs": []
    },
    {
      "cell_type": "code",
      "source": [
        "DT=DecisionTreeClassifier()"
      ],
      "metadata": {
        "id": "CliI9VLDBo8E"
      },
      "execution_count": null,
      "outputs": []
    },
    {
      "cell_type": "code",
      "source": [
        "DT.fit(x_train,y_train)\n"
      ],
      "metadata": {
        "id": "BGsWZ-3yB6oE"
      },
      "execution_count": null,
      "outputs": []
    },
    {
      "cell_type": "code",
      "source": [
        "LR_accuracy=LR.score(x_test,y_test)*100\n",
        "KNN_accuracy=KNN.score(x_test,y_test)*100\n",
        "DT_accuracy=DT.score(x_test,y_test)*100"
      ],
      "metadata": {
        "id": "1Bfa1YwjBrwE"
      },
      "execution_count": null,
      "outputs": []
    },
    {
      "cell_type": "code",
      "source": [
        "print(f\"Accuracy by using Logistic Regression: {LR_accuracy}%\")\n"
      ],
      "metadata": {
        "id": "2KIUf85hB-NZ"
      },
      "execution_count": null,
      "outputs": []
    },
    {
      "cell_type": "code",
      "source": [
        "print(f\"Accuracy by using K Nearest Neighbors Algorithm: {KNN_accuracy}%\")\n"
      ],
      "metadata": {
        "id": "ZlPLHSHzCBdf"
      },
      "execution_count": null,
      "outputs": []
    },
    {
      "cell_type": "code",
      "source": [
        "print(f\"Accuracy by using K Nearest Neighbors Algorithm: {KNN_accuracy}%\")\n"
      ],
      "metadata": {
        "id": "YJq0ZB_vCD-D"
      },
      "execution_count": null,
      "outputs": []
    }
  ]
}